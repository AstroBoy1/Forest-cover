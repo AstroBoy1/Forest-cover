{
 "cells": [
  {
   "cell_type": "markdown",
   "metadata": {},
   "source": [
    "# Michael Omori\n",
    "# Data Science ICS 691E HW1"
   ]
  },
  {
   "cell_type": "markdown",
   "metadata": {},
   "source": [
    "I take the forest cover data set and run through two types of models:\n",
    "1. Neural Networks\n",
    "2. XGBoost"
   ]
  },
  {
   "cell_type": "code",
   "execution_count": 130,
   "metadata": {},
   "outputs": [],
   "source": [
    "from keras.models import Sequential\n",
    "from keras.layers import Dense, Activation, Dropout\n",
    "from keras.utils.np_utils import to_categorical\n",
    "import pandas as pd\n",
    "from sklearn import preprocessing\n",
    "from keras.models import load_model\n",
    "import numpy as np\n",
    "import matplotlib.pyplot as plt\n",
    "from collections import Counter\n",
    "from keras import optimizers\n",
    "from keras.constraints import maxnorm\n",
    "import pickle"
   ]
  },
  {
   "cell_type": "markdown",
   "metadata": {},
   "source": [
    "# Function for sampling data"
   ]
  },
  {
   "cell_type": "code",
   "execution_count": 131,
   "metadata": {},
   "outputs": [],
   "source": [
    "def sample_data(in_file, split):\n",
    "    \"\"\"Function basically equivalent to train_test sklearn, I just save mine to files and print some stuff\"\"\"\n",
    "    df = pd.read_csv(in_file, header=None)\n",
    "    df_sample = df.sample(frac=1)\n",
    "    num_rows = len(df_sample)\n",
    "    split_index = round(num_rows * (1 - split))\n",
    "    df_sample[:split_index].to_csv(\"train_data.csv\", header=None, index=True)\n",
    "    df_sample[split_index:].to_csv(\"test_data.csv\", header=None, index=True)\n",
    "    print(\"Sampled the data and saved files\")\n",
    "    labels = df.iloc[:, -1]\n",
    "    print(\"Original Data Labels:\", Counter(labels).keys())  # equals to list(set(words))\n",
    "    print(\"Original Data labels frequencies:\", Counter(labels).values())  # counts the elements' frequency   "
   ]
  },
  {
   "cell_type": "markdown",
   "metadata": {},
   "source": [
    "# Keras model wrapper for SKlearn"
   ]
  },
  {
   "cell_type": "code",
   "execution_count": 132,
   "metadata": {},
   "outputs": [],
   "source": [
    "def create_model(num_features, h1_units=300, h2_units=100, h3_units=50, h1_act='relu', momentum=0.9, learn_rate=0.01,\n",
    "                 decay=1e-6, drop_out=0.1):\n",
    "    \"\"\"Function to create a model for Sklearn wrapper grid search\"\"\"\n",
    "    model = Sequential()\n",
    "    model.add(Dropout(drop_out, input_shape=(num_features,)))\n",
    "    model.add(Dense(units=h1_units, activation=h1_act, input_dim=num_features, kernel_constraint=maxnorm(3)))\n",
    "    model.add(Dense(units=h2_units, activation=h1_act, input_dim=h1_units, kernel_constraint=maxnorm(3)))\n",
    "    model.add(Dense(units=h3_units, activation=h1_act, input_dim=h2_units, kernel_constraint=maxnorm(3)))\n",
    "    # num classes + 1 to account for 1-7, and 0 indexing\n",
    "    model.add(Dense(units=8, activation='softmax'))\n",
    "\n",
    "    sgd = optimizers.SGD(lr=learn_rate, decay=decay, momentum=momentum, nesterov=True)\n",
    "    model.compile(loss='categorical_crossentropy',\n",
    "                  optimizer=sgd,\n",
    "                  metrics=['accuracy'])\n",
    "    return model"
   ]
  },
  {
   "cell_type": "markdown",
   "metadata": {},
   "source": [
    "# Sample the Data"
   ]
  },
  {
   "cell_type": "code",
   "execution_count": 133,
   "metadata": {},
   "outputs": [
    {
     "name": "stdout",
     "output_type": "stream",
     "text": [
      "Sampled the data and saved files\n",
      "Original Data Labels: dict_keys([5, 2, 1, 7, 3, 6, 4])\n",
      "Original Data labels frequencies: dict_values([9493, 283301, 211840, 20510, 35754, 17367, 2747])\n"
     ]
    }
   ],
   "source": [
    "seed = 7\n",
    "np.random.seed(seed)\n",
    "\n",
    "sample_data(\"covtype.data/covtype.csv\", 0.2)"
   ]
  },
  {
   "cell_type": "markdown",
   "metadata": {},
   "source": [
    "# Split into train and test"
   ]
  },
  {
   "cell_type": "code",
   "execution_count": 134,
   "metadata": {},
   "outputs": [
    {
     "name": "stderr",
     "output_type": "stream",
     "text": [
      "C:\\Users\\Michael\\Anaconda3\\lib\\site-packages\\sklearn\\utils\\validation.py:475: DataConversionWarning: Data with input dtype int64 was converted to float64 by the scale function.\n",
      "  warnings.warn(msg, DataConversionWarning)\n"
     ]
    }
   ],
   "source": [
    "# Use a dummy class 0, because of the categorical indexing at 0, while data classes are from 1-7\n",
    "fn = \"train_data.csv\"\n",
    "fn_test = \"test_data.csv\"\n",
    "\n",
    "df = pd.read_csv(fn, header=None)\n",
    "x_train = df.values[:, 1:-1]\n",
    "num_features = len(x_train[0])\n",
    "# Features have large range, so scaling helps\n",
    "x_train_scaled = preprocessing.scale(x_train)\n",
    "y_train = df.values[:, -1]\n",
    "categorical_labels = to_categorical(y_train, num_classes=8)\n",
    "\n",
    "df_test = pd.read_csv(fn_test, header=None)\n",
    "x_test = df_test.values[:, 1:-1]\n",
    "x_test_scaled = preprocessing.scale(x_test)\n",
    "y_test = df_test.values[:, -1]\n",
    "categorical_labels_test = to_categorical(y_test, num_classes=8)"
   ]
  },
  {
   "cell_type": "markdown",
   "metadata": {},
   "source": [
    "# Class Distribution"
   ]
  },
  {
   "cell_type": "code",
   "execution_count": 135,
   "metadata": {},
   "outputs": [
    {
     "name": "stdout",
     "output_type": "stream",
     "text": [
      "Training data length: 464810\n",
      "Training data labels: dict_keys([3, 1, 2, 6, 5, 7, 4])\n",
      "Training data labels counts: dict_values([28566, 169402, 226715, 13867, 7608, 16422, 2230])\n",
      "Test data length: 116202\n",
      "Training data labels: dict_keys([7, 1, 6, 2, 3, 5, 4])\n",
      "Training data labels counts: dict_values([4088, 42438, 3500, 56586, 7188, 1885, 517])\n"
     ]
    },
    {
     "data": {
      "image/png": "[encoded data removed]",
      "text/plain": [
       "<Figure size 432x288 with 2 Axes>"
      ]
     },
     "metadata": {},
     "output_type": "display_data"
    }
   ],
   "source": [
    "# Ensure equal class distribution for train and test\n",
    "print(\"Training data length:\", len(x_train))\n",
    "print(\"Training data labels:\", Counter(y_train).keys())  # equals to list(set(words))\n",
    "print(\"Training data labels counts:\", Counter(y_train).values())  # counts the elements' frequency\n",
    "\n",
    "f, (ax1, ax2) = plt.subplots(1, 2)\n",
    "ax1.hist(y_train)\n",
    "ax1.set_title(\"Training Labels Distribution\")\n",
    "\n",
    "print(\"Test data length:\", len(x_test))\n",
    "print(\"Training data labels:\", Counter(y_test).keys())  # equals to list(set(words))\n",
    "print(\"Training data labels counts:\", Counter(y_test).values())  # counts the elements' frequency\n",
    "\n",
    "ax2.hist(y_test)\n",
    "ax2.set_title(\"Test Labels Distribution\")\n",
    "plt.show()"
   ]
  },
  {
   "cell_type": "markdown",
   "metadata": {},
   "source": [
    "# Parameters for Grid Search"
   ]
  },
  {
   "cell_type": "code",
   "execution_count": 136,
   "metadata": {},
   "outputs": [],
   "source": [
    "# Parameters for Grid Search\n",
    "h1_units = 500\n",
    "h2_units = 100\n",
    "h3_units = 50\n",
    "h1_act = ['relu', 'tanh']\n",
    "momentum = [0.2, 0.4, 0.6, 0.8]\n",
    "learn_rate = [0.001, 0.01, 0.01, 0.2, 0.3]\n",
    "drop_out = [elem / 10 for elem in range(5)]\n",
    "decay = 1e-6\n",
    "\n",
    "best_model = None\n",
    "best_validation_score = 0\n",
    "best_history = None"
   ]
  },
  {
   "cell_type": "markdown",
   "metadata": {},
   "source": [
    "# Custom grid search code\n",
    "Tune learning rate and batch size after other parameters.\n",
    "Best model was tanh width 0.8 momentum.\n",
    "Takes some time, this one just goes through different activation functions and momentums.\n",
    "Choose the one with best validation loss."
   ]
  },
  {
   "cell_type": "code",
   "execution_count": 137,
   "metadata": {},
   "outputs": [
    {
     "name": "stdout",
     "output_type": "stream",
     "text": [
      "Training new model\n",
      "New best model relu 0.6\n",
      "Score 0.8128159893225614\n",
      "Training new model\n",
      "New best model relu 0.8\n",
      "Score 0.8211204578150637\n",
      "Training new model\n",
      "Training new model\n",
      "New best model tanh 0.8\n",
      "Score 0.8487661625205828\n"
     ]
    }
   ],
   "source": [
    "for act in h1_act:\n",
    "    for m in momentum[2:]:\n",
    "            print(\"Training new model\")\n",
    "            model = create_model(num_features, h1_units, h2_units, h3_units, act, m, 0.01, decay, 0)\n",
    "            history = model.fit(x_train_scaled, categorical_labels, epochs=5, batch_size=128,\n",
    "                                validation_split=0.2, verbose=0)\n",
    "            score = max(history.history['val_acc'])\n",
    "            if score > best_validation_score:\n",
    "                print(\"New best model\", act, m)\n",
    "                print(\"Score\", score)\n",
    "                best_validation_score = score\n",
    "                best_model = model\n",
    "                best_history = history\n",
    "\n",
    "model_fn = \"nn_grid2.h5\"\n",
    "best_model.save(model_fn)"
   ]
  },
  {
   "cell_type": "markdown",
   "metadata": {},
   "source": [
    "# Fit and save a neural network model with more epochs\n",
    "I chose a batch size of 128 because its a factor of two, and it's on the larger side so the training doesn't take too long.\n",
    "I also tried some other models, but didn't save them, just took their best parameters.\n",
    "The alpha value of 0.01 is on the larger size, but I use some decay to lower it during training.\n",
    "3 layers to keep it simple, with decreasing amount of nodes.\n",
    "Momentum to increase training convergence.\n",
    "Didn't use dropout because overfitting didn't occur."
   ]
  },
  {
   "cell_type": "code",
   "execution_count": 138,
   "metadata": {},
   "outputs": [
    {
     "name": "stdout",
     "output_type": "stream",
     "text": [
      "Train on 371848 samples, validate on 92962 samples\n",
      "Epoch 1/100\n",
      "371848/371848 [==============================] - 10s 28us/step - loss: 0.5776 - acc: 0.7548 - val_loss: 0.5007 - val_acc: 0.7843\n",
      "Epoch 2/100\n",
      "371848/371848 [==============================] - 10s 28us/step - loss: 0.4482 - acc: 0.8114 - val_loss: 0.4111 - val_acc: 0.8295\n",
      "Epoch 3/100\n",
      "371848/371848 [==============================] - 11s 28us/step - loss: 0.3850 - acc: 0.8407 - val_loss: 0.3654 - val_acc: 0.8510\n",
      "Epoch 4/100\n",
      "371848/371848 [==============================] - 11s 30us/step - loss: 0.3431 - acc: 0.8598 - val_loss: 0.3280 - val_acc: 0.8670\n",
      "Epoch 5/100\n",
      "371848/371848 [==============================] - 10s 28us/step - loss: 0.3140 - acc: 0.8722 - val_loss: 0.3138 - val_acc: 0.8713\n",
      "Epoch 6/100\n",
      "371848/371848 [==============================] - 10s 27us/step - loss: 0.2918 - acc: 0.8816 - val_loss: 0.2882 - val_acc: 0.8817\n",
      "Epoch 7/100\n",
      "371848/371848 [==============================] - 11s 28us/step - loss: 0.2736 - acc: 0.8893 - val_loss: 0.2741 - val_acc: 0.8891\n",
      "Epoch 8/100\n",
      "371848/371848 [==============================] - 11s 28us/step - loss: 0.2588 - acc: 0.8956 - val_loss: 0.2635 - val_acc: 0.8947\n",
      "Epoch 9/100\n",
      "371848/371848 [==============================] - 12s 31us/step - loss: 0.2462 - acc: 0.9010 - val_loss: 0.2589 - val_acc: 0.8948\n",
      "Epoch 10/100\n",
      "371848/371848 [==============================] - 11s 29us/step - loss: 0.2360 - acc: 0.9051 - val_loss: 0.2491 - val_acc: 0.9001\n",
      "Epoch 11/100\n",
      "371848/371848 [==============================] - 12s 31us/step - loss: 0.2268 - acc: 0.9095 - val_loss: 0.2369 - val_acc: 0.9035\n",
      "Epoch 12/100\n",
      "371848/371848 [==============================] - 11s 31us/step - loss: 0.2185 - acc: 0.9126 - val_loss: 0.2263 - val_acc: 0.9095\n",
      "Epoch 13/100\n",
      "371848/371848 [==============================] - 11s 29us/step - loss: 0.2113 - acc: 0.9158 - val_loss: 0.2180 - val_acc: 0.9120\n",
      "Epoch 14/100\n",
      "371848/371848 [==============================] - 10s 27us/step - loss: 0.2049 - acc: 0.9181 - val_loss: 0.2153 - val_acc: 0.9147\n",
      "Epoch 15/100\n",
      "371848/371848 [==============================] - 10s 28us/step - loss: 0.1986 - acc: 0.9204 - val_loss: 0.2076 - val_acc: 0.9164\n",
      "Epoch 16/100\n",
      "371848/371848 [==============================] - 10s 27us/step - loss: 0.1933 - acc: 0.9224 - val_loss: 0.2063 - val_acc: 0.9180\n",
      "Epoch 17/100\n",
      "371848/371848 [==============================] - 11s 28us/step - loss: 0.1887 - acc: 0.9248 - val_loss: 0.2019 - val_acc: 0.9206\n",
      "Epoch 18/100\n",
      "371848/371848 [==============================] - 10s 27us/step - loss: 0.1834 - acc: 0.9269 - val_loss: 0.2029 - val_acc: 0.9197\n",
      "Epoch 19/100\n",
      "371848/371848 [==============================] - 11s 28us/step - loss: 0.1797 - acc: 0.9282 - val_loss: 0.1944 - val_acc: 0.9235\n",
      "Epoch 20/100\n",
      "371848/371848 [==============================] - 11s 29us/step - loss: 0.1754 - acc: 0.9301 - val_loss: 0.1937 - val_acc: 0.9238\n",
      "Epoch 21/100\n",
      "371848/371848 [==============================] - 11s 29us/step - loss: 0.1718 - acc: 0.9317 - val_loss: 0.1985 - val_acc: 0.9214\n",
      "Epoch 22/100\n",
      "371848/371848 [==============================] - 14s 38us/step - loss: 0.1692 - acc: 0.9330 - val_loss: 0.1842 - val_acc: 0.9266\n",
      "Epoch 23/100\n",
      "371848/371848 [==============================] - 13s 34us/step - loss: 0.1642 - acc: 0.9347 - val_loss: 0.1837 - val_acc: 0.9281\n",
      "Epoch 24/100\n",
      "371848/371848 [==============================] - 12s 31us/step - loss: 0.1618 - acc: 0.9359 - val_loss: 0.1815 - val_acc: 0.9290\n",
      "Epoch 25/100\n",
      "371848/371848 [==============================] - 11s 29us/step - loss: 0.1585 - acc: 0.9372 - val_loss: 0.1789 - val_acc: 0.9305\n",
      "Epoch 26/100\n",
      "371848/371848 [==============================] - 11s 30us/step - loss: 0.1561 - acc: 0.9375 - val_loss: 0.1769 - val_acc: 0.9312\n",
      "Epoch 27/100\n",
      "371848/371848 [==============================] - 12s 33us/step - loss: 0.1535 - acc: 0.9390 - val_loss: 0.1749 - val_acc: 0.9313\n",
      "Epoch 28/100\n",
      "371848/371848 [==============================] - 12s 33us/step - loss: 0.1516 - acc: 0.9394 - val_loss: 0.1725 - val_acc: 0.9315\n",
      "Epoch 29/100\n",
      "371848/371848 [==============================] - 13s 34us/step - loss: 0.1484 - acc: 0.9411 - val_loss: 0.1754 - val_acc: 0.9316\n",
      "Epoch 30/100\n",
      "371848/371848 [==============================] - 13s 34us/step - loss: 0.1459 - acc: 0.9420 - val_loss: 0.1682 - val_acc: 0.9345\n",
      "Epoch 31/100\n",
      "371848/371848 [==============================] - 13s 34us/step - loss: 0.1439 - acc: 0.9426 - val_loss: 0.1686 - val_acc: 0.9345\n",
      "Epoch 32/100\n",
      "371848/371848 [==============================] - 13s 35us/step - loss: 0.1410 - acc: 0.9438 - val_loss: 0.1671 - val_acc: 0.9351\n",
      "Epoch 33/100\n",
      "371848/371848 [==============================] - 13s 35us/step - loss: 0.1399 - acc: 0.9445 - val_loss: 0.1653 - val_acc: 0.9360\n",
      "Epoch 34/100\n",
      "371848/371848 [==============================] - 11s 30us/step - loss: 0.1390 - acc: 0.9447 - val_loss: 0.1625 - val_acc: 0.9372\n",
      "Epoch 35/100\n",
      "371848/371848 [==============================] - 10s 28us/step - loss: 0.1363 - acc: 0.9461 - val_loss: 0.1618 - val_acc: 0.9379\n",
      "Epoch 36/100\n",
      "371848/371848 [==============================] - 14s 37us/step - loss: 0.1343 - acc: 0.9468 - val_loss: 0.1607 - val_acc: 0.9379\n",
      "Epoch 37/100\n",
      "371848/371848 [==============================] - 14s 38us/step - loss: 0.1334 - acc: 0.9468 - val_loss: 0.1638 - val_acc: 0.9374\n",
      "Epoch 38/100\n",
      "371848/371848 [==============================] - 14s 36us/step - loss: 0.1309 - acc: 0.9479 - val_loss: 0.1617 - val_acc: 0.9382\n",
      "Epoch 39/100\n",
      "371848/371848 [==============================] - 13s 36us/step - loss: 0.1306 - acc: 0.9479 - val_loss: 0.1596 - val_acc: 0.9383\n",
      "Epoch 40/100\n",
      "371848/371848 [==============================] - 14s 36us/step - loss: 0.1280 - acc: 0.9492 - val_loss: 0.1563 - val_acc: 0.9400\n",
      "Epoch 41/100\n",
      "371848/371848 [==============================] - 14s 37us/step - loss: 0.1263 - acc: 0.9496 - val_loss: 0.1561 - val_acc: 0.9397\n",
      "Epoch 42/100\n",
      "371848/371848 [==============================] - 13s 36us/step - loss: 0.1245 - acc: 0.9504 - val_loss: 0.1530 - val_acc: 0.9408\n",
      "Epoch 43/100\n",
      "371848/371848 [==============================] - 12s 33us/step - loss: 0.1239 - acc: 0.9505 - val_loss: 0.1537 - val_acc: 0.9402\n",
      "Epoch 44/100\n",
      "371848/371848 [==============================] - 13s 35us/step - loss: 0.1224 - acc: 0.9513 - val_loss: 0.1578 - val_acc: 0.9384\n",
      "Epoch 45/100\n",
      "371848/371848 [==============================] - 14s 37us/step - loss: 0.1229 - acc: 0.9510 - val_loss: 0.1554 - val_acc: 0.9401\n",
      "Epoch 46/100\n",
      "371848/371848 [==============================] - 14s 37us/step - loss: 0.1210 - acc: 0.9516 - val_loss: 0.1502 - val_acc: 0.9426\n",
      "Epoch 47/100\n",
      "371848/371848 [==============================] - 14s 36us/step - loss: 0.1186 - acc: 0.9526 - val_loss: 0.1506 - val_acc: 0.9419\n",
      "Epoch 48/100\n",
      "371848/371848 [==============================] - 13s 36us/step - loss: 0.1180 - acc: 0.9529 - val_loss: 0.1506 - val_acc: 0.9431\n",
      "Epoch 49/100\n",
      "371848/371848 [==============================] - 13s 36us/step - loss: 0.1168 - acc: 0.9534 - val_loss: 0.1508 - val_acc: 0.9428\n",
      "Epoch 50/100\n",
      "371848/371848 [==============================] - 13s 36us/step - loss: 0.1156 - acc: 0.9539 - val_loss: 0.1476 - val_acc: 0.9434\n",
      "Epoch 51/100\n",
      "371848/371848 [==============================] - 15s 39us/step - loss: 0.1146 - acc: 0.9547 - val_loss: 0.1521 - val_acc: 0.9421\n",
      "Epoch 52/100\n",
      "371848/371848 [==============================] - 15s 40us/step - loss: 0.1135 - acc: 0.9552 - val_loss: 0.1543 - val_acc: 0.9415\n",
      "Epoch 53/100\n",
      "371848/371848 [==============================] - 14s 37us/step - loss: 0.1161 - acc: 0.9538 - val_loss: 0.1526 - val_acc: 0.9423\n",
      "Epoch 54/100\n",
      "371848/371848 [==============================] - 13s 35us/step - loss: 0.1125 - acc: 0.9554 - val_loss: 0.1492 - val_acc: 0.9433\n",
      "Epoch 55/100\n",
      "371848/371848 [==============================] - 15s 42us/step - loss: 0.1112 - acc: 0.9560 - val_loss: 0.1470 - val_acc: 0.9439\n",
      "Epoch 56/100\n",
      "371848/371848 [==============================] - 12s 33us/step - loss: 0.1093 - acc: 0.9563 - val_loss: 0.1507 - val_acc: 0.9427\n",
      "Epoch 57/100\n",
      "371848/371848 [==============================] - 11s 30us/step - loss: 0.1098 - acc: 0.9562 - val_loss: 0.1484 - val_acc: 0.9434\n",
      "Epoch 58/100\n",
      "371848/371848 [==============================] - 13s 34us/step - loss: 0.1082 - acc: 0.9569 - val_loss: 0.1506 - val_acc: 0.9430\n",
      "Epoch 59/100\n",
      "371848/371848 [==============================] - 14s 36us/step - loss: 0.1082 - acc: 0.9566 - val_loss: 0.1476 - val_acc: 0.9434\n",
      "Epoch 60/100\n",
      "371848/371848 [==============================] - 13s 34us/step - loss: 0.1059 - acc: 0.9578 - val_loss: 0.1516 - val_acc: 0.9423\n",
      "Epoch 61/100\n",
      "371848/371848 [==============================] - 13s 34us/step - loss: 0.1057 - acc: 0.9579 - val_loss: 0.1432 - val_acc: 0.9450\n",
      "Epoch 62/100\n",
      "371848/371848 [==============================] - 12s 32us/step - loss: 0.1051 - acc: 0.9578 - val_loss: 0.1440 - val_acc: 0.9455\n",
      "Epoch 63/100\n",
      "371848/371848 [==============================] - 14s 39us/step - loss: 0.1044 - acc: 0.9585 - val_loss: 0.1429 - val_acc: 0.9461\n",
      "Epoch 64/100\n",
      "371848/371848 [==============================] - 12s 32us/step - loss: 0.1028 - acc: 0.9591 - val_loss: 0.1475 - val_acc: 0.9441\n",
      "Epoch 65/100\n",
      "371848/371848 [==============================] - 11s 30us/step - loss: 0.1048 - acc: 0.9584 - val_loss: 0.1439 - val_acc: 0.9454\n",
      "Epoch 66/100\n",
      "371848/371848 [==============================] - 10s 28us/step - loss: 0.1042 - acc: 0.9587 - val_loss: 0.1456 - val_acc: 0.9450\n",
      "Epoch 67/100\n",
      "371848/371848 [==============================] - 10s 28us/step - loss: 0.1017 - acc: 0.9595 - val_loss: 0.1421 - val_acc: 0.9465\n",
      "Epoch 68/100\n",
      "371848/371848 [==============================] - 13s 35us/step - loss: 0.1005 - acc: 0.9599 - val_loss: 0.1418 - val_acc: 0.9463\n",
      "Epoch 69/100\n",
      "371848/371848 [==============================] - 12s 32us/step - loss: 0.1001 - acc: 0.9601 - val_loss: 0.1443 - val_acc: 0.9463\n",
      "Epoch 70/100\n",
      "371848/371848 [==============================] - 13s 36us/step - loss: 0.0995 - acc: 0.9604 - val_loss: 0.1406 - val_acc: 0.9474\n",
      "Epoch 71/100\n",
      "371848/371848 [==============================] - 13s 35us/step - loss: 0.0986 - acc: 0.9607 - val_loss: 0.1411 - val_acc: 0.9464\n",
      "Epoch 72/100\n",
      "371848/371848 [==============================] - 13s 36us/step - loss: 0.0971 - acc: 0.9614 - val_loss: 0.1499 - val_acc: 0.9433\n",
      "Epoch 73/100\n",
      "371848/371848 [==============================] - 11s 29us/step - loss: 0.0987 - acc: 0.9602 - val_loss: 0.1415 - val_acc: 0.9473\n",
      "Epoch 74/100\n",
      "371848/371848 [==============================] - 13s 34us/step - loss: 0.0969 - acc: 0.9615 - val_loss: 0.1407 - val_acc: 0.9482\n",
      "Epoch 75/100\n",
      "371848/371848 [==============================] - 14s 38us/step - loss: 0.0959 - acc: 0.9616 - val_loss: 0.1370 - val_acc: 0.9489\n",
      "Epoch 76/100\n",
      "371848/371848 [==============================] - 14s 36us/step - loss: 0.0957 - acc: 0.9617 - val_loss: 0.1436 - val_acc: 0.9465\n",
      "Epoch 77/100\n",
      "371848/371848 [==============================] - 13s 36us/step - loss: 0.0964 - acc: 0.9618 - val_loss: 0.1388 - val_acc: 0.9482\n",
      "Epoch 78/100\n",
      "371848/371848 [==============================] - 13s 36us/step - loss: 0.0944 - acc: 0.9622 - val_loss: 0.1386 - val_acc: 0.9484\n",
      "Epoch 79/100\n",
      "371848/371848 [==============================] - 13s 36us/step - loss: 0.0936 - acc: 0.9630 - val_loss: 0.1370 - val_acc: 0.9490\n",
      "Epoch 80/100\n",
      "371848/371848 [==============================] - 13s 36us/step - loss: 0.0931 - acc: 0.9630 - val_loss: 0.1372 - val_acc: 0.9493\n",
      "Epoch 81/100\n",
      "371848/371848 [==============================] - 13s 36us/step - loss: 0.0921 - acc: 0.9633 - val_loss: 0.1401 - val_acc: 0.9482\n",
      "Epoch 82/100\n",
      "371848/371848 [==============================] - 13s 36us/step - loss: 0.0924 - acc: 0.9631 - val_loss: 0.1410 - val_acc: 0.9480\n",
      "Epoch 83/100\n",
      "371848/371848 [==============================] - 13s 36us/step - loss: 0.0921 - acc: 0.9635 - val_loss: 0.1372 - val_acc: 0.9484\n",
      "Epoch 84/100\n",
      "371848/371848 [==============================] - 14s 38us/step - loss: 0.0920 - acc: 0.9632 - val_loss: 0.1359 - val_acc: 0.9488\n",
      "Epoch 85/100\n",
      "371848/371848 [==============================] - 14s 37us/step - loss: 0.0912 - acc: 0.9635 - val_loss: 0.1381 - val_acc: 0.9490\n",
      "Epoch 86/100\n",
      "371848/371848 [==============================] - 14s 39us/step - loss: 0.0903 - acc: 0.9643 - val_loss: 0.1385 - val_acc: 0.9485\n",
      "Epoch 87/100\n",
      "371848/371848 [==============================] - 13s 34us/step - loss: 0.0898 - acc: 0.9643 - val_loss: 0.1407 - val_acc: 0.9478\n",
      "Epoch 88/100\n",
      "371848/371848 [==============================] - 14s 36us/step - loss: 0.0898 - acc: 0.9644 - val_loss: 0.1388 - val_acc: 0.9482\n",
      "Epoch 89/100\n",
      "371848/371848 [==============================] - 14s 37us/step - loss: 0.0894 - acc: 0.9643 - val_loss: 0.1364 - val_acc: 0.9495\n",
      "Epoch 90/100\n",
      "371848/371848 [==============================] - 13s 34us/step - loss: 0.0912 - acc: 0.9639 - val_loss: 0.1362 - val_acc: 0.9493\n",
      "Epoch 91/100\n",
      "371848/371848 [==============================] - 13s 36us/step - loss: 0.0889 - acc: 0.9645 - val_loss: 0.1396 - val_acc: 0.9484\n",
      "Epoch 92/100\n",
      "371848/371848 [==============================] - 13s 34us/step - loss: 0.0879 - acc: 0.9648 - val_loss: 0.1399 - val_acc: 0.9481\n",
      "Epoch 93/100\n",
      "371848/371848 [==============================] - 13s 35us/step - loss: 0.0880 - acc: 0.9649 - val_loss: 0.1350 - val_acc: 0.9497\n",
      "Epoch 94/100\n",
      "371848/371848 [==============================] - 13s 34us/step - loss: 0.0864 - acc: 0.9656 - val_loss: 0.1350 - val_acc: 0.9506\n",
      "Epoch 95/100\n",
      "371848/371848 [==============================] - 11s 31us/step - loss: 0.0863 - acc: 0.9654 - val_loss: 0.1341 - val_acc: 0.9514\n",
      "Epoch 96/100\n",
      "371848/371848 [==============================] - 11s 30us/step - loss: 0.0861 - acc: 0.9658 - val_loss: 0.1402 - val_acc: 0.9492\n",
      "Epoch 97/100\n",
      "371848/371848 [==============================] - 14s 37us/step - loss: 0.0869 - acc: 0.9654 - val_loss: 0.1345 - val_acc: 0.9505\n",
      "Epoch 98/100\n",
      "371848/371848 [==============================] - 11s 31us/step - loss: 0.0848 - acc: 0.9663 - val_loss: 0.1349 - val_acc: 0.9506\n",
      "Epoch 99/100\n",
      "371848/371848 [==============================] - 13s 35us/step - loss: 0.0846 - acc: 0.9662 - val_loss: 0.1402 - val_acc: 0.9489\n",
      "Epoch 100/100\n",
      "371848/371848 [==============================] - 11s 30us/step - loss: 0.0849 - acc: 0.9664 - val_loss: 0.1370 - val_acc: 0.9500\n",
      "Saved model\n"
     ]
    }
   ],
   "source": [
    "model = create_model(num_features, 500, 100, 50, 'tanh', 0.9, 0.01, decay, 0)\n",
    "history = model.fit(x_train_scaled, categorical_labels, epochs=100, batch_size=128,\n",
    "                    validation_split=0.2, verbose=1)\n",
    "\n",
    "model_fn = \"nn_100epochs_0.1dropout.h5\"\n",
    "model.save(model_fn)\n",
    "print(\"Saved model\")\n",
    "\n",
    "with open('history3.pickle', 'wb') as f:\n",
    "    pickle.dump(history.history, f)\n",
    "    history = history.history"
   ]
  },
  {
   "cell_type": "markdown",
   "metadata": {},
   "source": [
    "# Load a saved model"
   ]
  },
  {
   "cell_type": "code",
   "execution_count": 139,
   "metadata": {},
   "outputs": [],
   "source": [
    "try:\n",
    "    model = load_model(\"nn_100epochs_0.1dropout.h5\")\n",
    "    with open('history3.pickle', 'rb') as f:\n",
    "        history = pickle.load(f)\n",
    "except:\n",
    "    print(\"Model not found\")"
   ]
  },
  {
   "cell_type": "markdown",
   "metadata": {},
   "source": [
    "# Test the model"
   ]
  },
  {
   "cell_type": "code",
   "execution_count": 140,
   "metadata": {
    "scrolled": true
   },
   "outputs": [
    {
     "name": "stdout",
     "output_type": "stream",
     "text": [
      "116202/116202 [==============================] - 2s 21us/step\n",
      "Loss and metrics [0.13855911528231318, 0.949037021738008]\n"
     ]
    }
   ],
   "source": [
    "# Accuracy of 95% on the test data, slightly lower than the training accuracy which is to be expected.\n",
    "# Not significantly lower, which suggests that the model has yet to overfit the training data.\n",
    "loss_and_metrics = model.evaluate(x_test_scaled, categorical_labels_test, batch_size=32)\n",
    "print(\"Loss and metrics\", loss_and_metrics)"
   ]
  },
  {
   "cell_type": "markdown",
   "metadata": {},
   "source": [
    "# Plot the losses"
   ]
  },
  {
   "cell_type": "code",
   "execution_count": 141,
   "metadata": {},
   "outputs": [
    {
     "name": "stdout",
     "output_type": "stream",
     "text": [
      "dict_keys(['val_loss', 'val_acc', 'loss', 'acc'])\n"
     ]
    },
    {
     "data": {
      "image/png": "[encoded data removed]",
      "text/plain": [
       "<Figure size 432x288 with 1 Axes>"
      ]
     },
     "metadata": {},
     "output_type": "display_data"
    },
    {
     "data": {
      "image/png": "[encoded data removed]",
      "text/plain": [
       "<Figure size 432x288 with 1 Axes>"
      ]
     },
     "metadata": {},
     "output_type": "display_data"
    }
   ],
   "source": [
    "\n",
    "# list all data in history\n",
    "print(history.keys())\n",
    "# summarize history for accuracy\n",
    "plt.plot(history['acc'])\n",
    "plt.plot(history['val_acc'])\n",
    "plt.title('model accuracy')\n",
    "plt.ylabel('accuracy')\n",
    "plt.xlabel('epoch')\n",
    "plt.legend(['Train', 'Validation'], loc='upper left')\n",
    "plt.show()\n",
    "\n",
    "# summarize history for loss\n",
    "plt.plot(history['loss'])\n",
    "plt.plot(history['val_loss'])\n",
    "plt.title('model loss')\n",
    "plt.ylabel('loss')\n",
    "plt.xlabel('epoch')\n",
    "plt.legend(['Train', 'Validation'], loc='upper left')\n",
    "plt.show()"
   ]
  },
  {
   "cell_type": "markdown",
   "metadata": {},
   "source": [
    "# XGBoost"
   ]
  },
  {
   "cell_type": "code",
   "execution_count": 142,
   "metadata": {},
   "outputs": [],
   "source": [
    "import xgboost as xgb"
   ]
  },
  {
   "cell_type": "code",
   "execution_count": 143,
   "metadata": {},
   "outputs": [],
   "source": [
    "# Don't use one hot encoding\n",
    "\n",
    "split = round(0.2 * len(x_train_scaled))\n",
    "x_val = x_train_scaled[:split]\n",
    "y_val = y_train[:split]\n",
    "x_train2 = x_train_scaled[split:]\n",
    "y_train2 = y_train[split:]\n",
    "\n",
    "dtrain = xgb.DMatrix(x_train2, label=y_train2)\n",
    "dtest = xgb.DMatrix(x_test_scaled)\n",
    "\n",
    "param = {'max_depth': 10, 'eta': 0.1, 'silent': 1, 'objective': 'multi:softprob'}\n",
    "param['nthread'] = 4\n",
    "param['eval_metric'] = 'mlogloss'\n",
    "param['num_class'] = 8\n",
    "\n",
    "dval = xgb.DMatrix(x_val, label=y_val)\n",
    "evallist = [(dval, 'eval'), (dtrain, 'train')]\n",
    "\n",
    "num_round = 100"
   ]
  },
  {
   "cell_type": "markdown",
   "metadata": {},
   "source": [
    "# Training and testing"
   ]
  },
  {
   "cell_type": "code",
   "execution_count": 144,
   "metadata": {},
   "outputs": [
    {
     "name": "stdout",
     "output_type": "stream",
     "text": [
      "[0]\teval-mlogloss:1.82339\ttrain-mlogloss:1.82123\n",
      "[1]\teval-mlogloss:1.63473\ttrain-mlogloss:1.6311\n",
      "[2]\teval-mlogloss:1.48514\ttrain-mlogloss:1.48006\n",
      "[3]\teval-mlogloss:1.36194\ttrain-mlogloss:1.35561\n",
      "[4]\teval-mlogloss:1.25843\ttrain-mlogloss:1.25087\n",
      "[5]\teval-mlogloss:1.16842\ttrain-mlogloss:1.15979\n",
      "[6]\teval-mlogloss:1.09037\ttrain-mlogloss:1.08091\n",
      "[7]\teval-mlogloss:1.0217\ttrain-mlogloss:1.01147\n",
      "[8]\teval-mlogloss:0.960677\ttrain-mlogloss:0.949536\n",
      "[9]\teval-mlogloss:0.906451\ttrain-mlogloss:0.894549\n",
      "[10]\teval-mlogloss:0.856952\ttrain-mlogloss:0.844224\n",
      "[11]\teval-mlogloss:0.812479\ttrain-mlogloss:0.799006\n",
      "[12]\teval-mlogloss:0.772254\ttrain-mlogloss:0.758064\n",
      "[13]\teval-mlogloss:0.736094\ttrain-mlogloss:0.721224\n",
      "[14]\teval-mlogloss:0.703138\ttrain-mlogloss:0.687635\n",
      "[15]\teval-mlogloss:0.673723\ttrain-mlogloss:0.657544\n",
      "[16]\teval-mlogloss:0.646658\ttrain-mlogloss:0.629899\n",
      "[17]\teval-mlogloss:0.621968\ttrain-mlogloss:0.604644\n",
      "[18]\teval-mlogloss:0.599507\ttrain-mlogloss:0.581755\n",
      "[19]\teval-mlogloss:0.579027\ttrain-mlogloss:0.560819\n",
      "[20]\teval-mlogloss:0.560034\ttrain-mlogloss:0.54139\n",
      "[21]\teval-mlogloss:0.542953\ttrain-mlogloss:0.5239\n",
      "[22]\teval-mlogloss:0.526944\ttrain-mlogloss:0.507529\n",
      "[23]\teval-mlogloss:0.512496\ttrain-mlogloss:0.492714\n",
      "[24]\teval-mlogloss:0.499486\ttrain-mlogloss:0.479391\n",
      "[25]\teval-mlogloss:0.487489\ttrain-mlogloss:0.4671\n",
      "[26]\teval-mlogloss:0.476417\ttrain-mlogloss:0.455732\n",
      "[27]\teval-mlogloss:0.466157\ttrain-mlogloss:0.44521\n",
      "[28]\teval-mlogloss:0.457064\ttrain-mlogloss:0.435846\n",
      "[29]\teval-mlogloss:0.448337\ttrain-mlogloss:0.426884\n",
      "[30]\teval-mlogloss:0.440328\ttrain-mlogloss:0.418628\n",
      "[31]\teval-mlogloss:0.432868\ttrain-mlogloss:0.410939\n",
      "[32]\teval-mlogloss:0.425896\ttrain-mlogloss:0.403742\n",
      "[33]\teval-mlogloss:0.41924\ttrain-mlogloss:0.396891\n",
      "[34]\teval-mlogloss:0.413058\ttrain-mlogloss:0.390527\n",
      "[35]\teval-mlogloss:0.407327\ttrain-mlogloss:0.384616\n",
      "[36]\teval-mlogloss:0.401925\ttrain-mlogloss:0.379045\n",
      "[37]\teval-mlogloss:0.396813\ttrain-mlogloss:0.373757\n",
      "[38]\teval-mlogloss:0.392243\ttrain-mlogloss:0.369039\n",
      "[39]\teval-mlogloss:0.387622\ttrain-mlogloss:0.364234\n",
      "[40]\teval-mlogloss:0.382919\ttrain-mlogloss:0.359365\n",
      "[41]\teval-mlogloss:0.378724\ttrain-mlogloss:0.355033\n",
      "[42]\teval-mlogloss:0.375058\ttrain-mlogloss:0.351239\n",
      "[43]\teval-mlogloss:0.371195\ttrain-mlogloss:0.347244\n",
      "[44]\teval-mlogloss:0.367523\ttrain-mlogloss:0.343432\n",
      "[45]\teval-mlogloss:0.364487\ttrain-mlogloss:0.340286\n",
      "[46]\teval-mlogloss:0.360026\ttrain-mlogloss:0.335626\n",
      "[47]\teval-mlogloss:0.357111\ttrain-mlogloss:0.332624\n",
      "[48]\teval-mlogloss:0.354413\ttrain-mlogloss:0.329854\n",
      "[49]\teval-mlogloss:0.351903\ttrain-mlogloss:0.327248\n",
      "[50]\teval-mlogloss:0.349412\ttrain-mlogloss:0.324668\n",
      "[51]\teval-mlogloss:0.346748\ttrain-mlogloss:0.321923\n",
      "[52]\teval-mlogloss:0.343836\ttrain-mlogloss:0.318841\n",
      "[53]\teval-mlogloss:0.341708\ttrain-mlogloss:0.31663\n",
      "[54]\teval-mlogloss:0.339738\ttrain-mlogloss:0.314608\n",
      "[55]\teval-mlogloss:0.336499\ttrain-mlogloss:0.311246\n",
      "[56]\teval-mlogloss:0.333624\ttrain-mlogloss:0.308215\n",
      "[57]\teval-mlogloss:0.331412\ttrain-mlogloss:0.305947\n",
      "[58]\teval-mlogloss:0.329717\ttrain-mlogloss:0.30415\n",
      "[59]\teval-mlogloss:0.326734\ttrain-mlogloss:0.301014\n",
      "[60]\teval-mlogloss:0.325002\ttrain-mlogloss:0.2992\n",
      "[61]\teval-mlogloss:0.32225\ttrain-mlogloss:0.296318\n",
      "[62]\teval-mlogloss:0.320543\ttrain-mlogloss:0.294553\n",
      "[63]\teval-mlogloss:0.318529\ttrain-mlogloss:0.292438\n",
      "[64]\teval-mlogloss:0.316533\ttrain-mlogloss:0.290325\n",
      "[65]\teval-mlogloss:0.313902\ttrain-mlogloss:0.287578\n",
      "[66]\teval-mlogloss:0.312687\ttrain-mlogloss:0.286316\n",
      "[67]\teval-mlogloss:0.311116\ttrain-mlogloss:0.284644\n",
      "[68]\teval-mlogloss:0.30982\ttrain-mlogloss:0.283287\n",
      "[69]\teval-mlogloss:0.308338\ttrain-mlogloss:0.281726\n",
      "[70]\teval-mlogloss:0.307348\ttrain-mlogloss:0.280704\n",
      "[71]\teval-mlogloss:0.305673\ttrain-mlogloss:0.278895\n",
      "[72]\teval-mlogloss:0.303541\ttrain-mlogloss:0.276666\n",
      "[73]\teval-mlogloss:0.302241\ttrain-mlogloss:0.275283\n",
      "[74]\teval-mlogloss:0.301345\ttrain-mlogloss:0.274354\n",
      "[75]\teval-mlogloss:0.299449\ttrain-mlogloss:0.272336\n",
      "[76]\teval-mlogloss:0.298401\ttrain-mlogloss:0.271233\n",
      "[77]\teval-mlogloss:0.297688\ttrain-mlogloss:0.270475\n",
      "[78]\teval-mlogloss:0.296516\ttrain-mlogloss:0.269242\n",
      "[79]\teval-mlogloss:0.295873\ttrain-mlogloss:0.268545\n",
      "[80]\teval-mlogloss:0.29524\ttrain-mlogloss:0.26786\n",
      "[81]\teval-mlogloss:0.294084\ttrain-mlogloss:0.266663\n",
      "[82]\teval-mlogloss:0.293103\ttrain-mlogloss:0.265598\n",
      "[83]\teval-mlogloss:0.292276\ttrain-mlogloss:0.264756\n",
      "[84]\teval-mlogloss:0.291429\ttrain-mlogloss:0.263802\n",
      "[85]\teval-mlogloss:0.290558\ttrain-mlogloss:0.262866\n",
      "[86]\teval-mlogloss:0.289801\ttrain-mlogloss:0.262036\n",
      "[87]\teval-mlogloss:0.288706\ttrain-mlogloss:0.260854\n",
      "[88]\teval-mlogloss:0.288171\ttrain-mlogloss:0.260277\n",
      "[89]\teval-mlogloss:0.287262\ttrain-mlogloss:0.259322\n",
      "[90]\teval-mlogloss:0.286203\ttrain-mlogloss:0.25818\n",
      "[91]\teval-mlogloss:0.284631\ttrain-mlogloss:0.256484\n",
      "[92]\teval-mlogloss:0.28382\ttrain-mlogloss:0.255602\n",
      "[93]\teval-mlogloss:0.282287\ttrain-mlogloss:0.253954\n",
      "[94]\teval-mlogloss:0.28137\ttrain-mlogloss:0.252946\n",
      "[95]\teval-mlogloss:0.280359\ttrain-mlogloss:0.251837\n",
      "[96]\teval-mlogloss:0.279198\ttrain-mlogloss:0.250611\n",
      "[97]\teval-mlogloss:0.278499\ttrain-mlogloss:0.249852\n",
      "[98]\teval-mlogloss:0.27683\ttrain-mlogloss:0.248064\n",
      "[99]\teval-mlogloss:0.276148\ttrain-mlogloss:0.247331\n"
     ]
    }
   ],
   "source": [
    "bst = xgb.train(param, dtrain, num_round, evallist)\n",
    "\n",
    "bst.save_model('xgboost.model')"
   ]
  },
  {
   "cell_type": "code",
   "execution_count": 145,
   "metadata": {},
   "outputs": [],
   "source": [
    "# make predictions for test data\n",
    "bst = xgb.Booster({'nthread': 4})  # init model\n",
    "try:\n",
    "    bst.load_model('xgboost.model')  # load data\n",
    "except:\n",
    "    print(\"couldn't load model\")\n",
    "y_pred = bst.predict(dtest)"
   ]
  },
  {
   "cell_type": "code",
   "execution_count": 146,
   "metadata": {},
   "outputs": [],
   "source": [
    "predictions = []\n",
    "true = list(y_test)\n",
    "for i in range(len(y_pred)):\n",
    "    predictions.append(np.argmax(y_pred[i]))"
   ]
  },
  {
   "cell_type": "code",
   "execution_count": 147,
   "metadata": {},
   "outputs": [
    {
     "name": "stdout",
     "output_type": "stream",
     "text": [
      "0.8973511643517323\n"
     ]
    }
   ],
   "source": [
    "# evaluate predictions\n",
    "accuracy = 0\n",
    "for i in range(len(predictions)):\n",
    "    if predictions[i] == true[i]:\n",
    "        accuracy += 1\n",
    "print(accuracy / len(predictions))"
   ]
  },
  {
   "cell_type": "markdown",
   "metadata": {},
   "source": [
    "Results are good, not as good as neural network, but I didn't fine tune the parameters"
   ]
  },
  {
   "cell_type": "markdown",
   "metadata": {},
   "source": [
    "# Feature Importance"
   ]
  },
  {
   "cell_type": "code",
   "execution_count": 148,
   "metadata": {},
   "outputs": [
    {
     "data": {
      "image/png": "[encoded data removed]",
      "text/plain": [
       "<Figure size 720x720 with 1 Axes>"
      ]
     },
     "metadata": {},
     "output_type": "display_data"
    }
   ],
   "source": [
    "ax = xgb.plot_importance(bst)\n",
    "fig = ax.figure\n",
    "fig.set_size_inches(10, 10)"
   ]
  },
  {
   "cell_type": "code",
   "execution_count": 149,
   "metadata": {},
   "outputs": [],
   "source": [
    "df = pd.read_excel(\"features.xlsx\")\n",
    "l = list(df.columns.values)\n",
    "features = {}\n",
    "for i in range(len(l)):\n",
    "    features[\"f\" + str(i)] = l[i]"
   ]
  },
  {
   "cell_type": "code",
   "execution_count": 150,
   "metadata": {},
   "outputs": [
    {
     "name": "stdout",
     "output_type": "stream",
     "text": [
      "5 Best features\n",
      "Horizontal_Distance_To_Fire_Points\n",
      "Horizontal_Distance_To_Roadways\n",
      "Elevation\n",
      "Horizontal_Distance_To_Hydrology\n",
      "Vertical_Distance_To_Hydrology\n",
      "\n",
      "5 Worst features\n",
      "Soil_Type7\n",
      "Soil_Type25\n",
      "Soil_Type8\n",
      "Soil_Type18\n",
      "Soil_Type36\n"
     ]
    }
   ],
   "source": [
    "best = [9, 5, 0, 3, 4]\n",
    "worst = [20, 38, 21, 31, 49]\n",
    "print(\"5 Best features\")\n",
    "for b in best:\n",
    "    print(features[\"f\" + str(b)])\n",
    "print(\"\\n5 Worst features\")\n",
    "for w in worst:\n",
    "    print(features[\"f\" + str(w)])"
   ]
  },
  {
   "cell_type": "markdown",
   "metadata": {},
   "source": [
    "# Summary\n",
    "The neural network performed slightly better than XGBoost (95% vs 90% accuracy). But this might be partly because I spent more time fine-tuning the neural network.\n",
    "\n",
    "Class distributions were heavily skewed and I tried to ensure that the training set distribution represented the test set distribution. I used mostly standard parameter values.\n",
    "\n",
    "In order to improve what I did, I would tune the parameters more, use multiple validation sets, consider plotting the various variables and distributions, and maybe incorporate some pre-processing. I would also train to more epochs until overfitting occurs, then apply regualrization or drop out.\n",
    "\n",
    "The most interesting results are probably from the feature importance, in which we see something intuitive like elevation and some maybe less intuitive things for me at least such as horizontal distance to fire points and roadways."
   ]
  }
 ],
 "metadata": {
  "kernelspec": {
   "display_name": "Python 3",
   "language": "python",
   "name": "python3"
  },
  "language_info": {
   "codemirror_mode": {
    "name": "ipython",
    "version": 3
   },
   "file_extension": ".py",
   "mimetype": "text/x-python",
   "name": "python",
   "nbconvert_exporter": "python",
   "pygments_lexer": "ipython3",
   "version": "3.6.5"
  }
 },
 "nbformat": 4,
 "nbformat_minor": 2
}
